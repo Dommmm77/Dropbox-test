{
 "cells": [
  {
   "cell_type": "code",
   "execution_count": 1,
   "id": "53c815e5",
   "metadata": {},
   "outputs": [
    {
     "name": "stdout",
     "output_type": "stream",
     "text": [
      "this was printed on PC\n"
     ]
    }
   ],
   "source": [
    "print ('this was printed on PC')"
   ]
  },
  {
   "cell_type": "code",
   "execution_count": 2,
   "id": "202d800c",
   "metadata": {},
   "outputs": [
    {
     "name": "stdout",
     "output_type": "stream",
     "text": [
      "this was printed on PC after notebook name change\n"
     ]
    }
   ],
   "source": [
    "print(\"this was printed on PC after notebook name change\")"
   ]
  },
  {
   "cell_type": "code",
   "execution_count": 3,
   "id": "f8cff423",
   "metadata": {},
   "outputs": [
    {
     "name": "stdout",
     "output_type": "stream",
     "text": [
      "on PC\n"
     ]
    }
   ],
   "source": [
    "print(\"on PC\")"
   ]
  },
  {
   "cell_type": "code",
   "execution_count": null,
   "id": "5c09b66a",
   "metadata": {},
   "outputs": [],
   "source": []
  }
 ],
 "metadata": {
  "kernelspec": {
   "display_name": "Python 3 (ipykernel)",
   "language": "python",
   "name": "python3"
  },
  "language_info": {
   "codemirror_mode": {
    "name": "ipython",
    "version": 3
   },
   "file_extension": ".py",
   "mimetype": "text/x-python",
   "name": "python",
   "nbconvert_exporter": "python",
   "pygments_lexer": "ipython3",
   "version": "3.9.7"
  }
 },
 "nbformat": 4,
 "nbformat_minor": 5
}
